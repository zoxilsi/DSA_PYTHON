{
 "cells": [
  {
   "cell_type": "markdown",
   "id": "d2b07c95-464c-4d4e-90ab-580c1539ace2",
   "metadata": {},
   "source": [
    "### sum of n numbers"
   ]
  },
  {
   "cell_type": "code",
   "execution_count": 5,
   "id": "8d0358a9-c062-4294-87f7-59200dc230e1",
   "metadata": {},
   "outputs": [
    {
     "name": "stdin",
     "output_type": "stream",
     "text": [
      " 10\n"
     ]
    },
    {
     "name": "stdout",
     "output_type": "stream",
     "text": [
      "55\n"
     ]
    }
   ],
   "source": [
    "n = int(input())\n",
    "sum = 0\n",
    "while n > 0:\n",
    "    sum = sum + n\n",
    "    n = n - 1;\n",
    "print(sum)"
   ]
  },
  {
   "cell_type": "markdown",
   "id": "34eea25c-25bd-4c2d-9e10-6bf545a55f89",
   "metadata": {},
   "source": [
    "### Check Number"
   ]
  },
  {
   "cell_type": "code",
   "execution_count": 9,
   "id": "e7c44f18-00a0-4446-84a2-18a695b9f20d",
   "metadata": {},
   "outputs": [
    {
     "name": "stdin",
     "output_type": "stream",
     "text": [
      " -1\n"
     ]
    },
    {
     "name": "stdout",
     "output_type": "stream",
     "text": [
      "Negative Number\n"
     ]
    }
   ],
   "source": [
    "n = int(input())\n",
    "if n > 0:\n",
    "    print(\"Positive Number\")\n",
    "elif n < 0:\n",
    "    print(\"Negative Number\")\n",
    "else:\n",
    "    print(\"Zero\")"
   ]
  },
  {
   "cell_type": "markdown",
   "id": "cd2feb89-2933-4ffc-9156-350d95fcd9b2",
   "metadata": {},
   "source": [
    "### Sum of Even Number"
   ]
  },
  {
   "cell_type": "code",
   "execution_count": 12,
   "id": "f11bdcab-67df-4141-8e2a-c8764b5e8742",
   "metadata": {},
   "outputs": [
    {
     "name": "stdin",
     "output_type": "stream",
     "text": [
      " 6\n"
     ]
    },
    {
     "name": "stdout",
     "output_type": "stream",
     "text": [
      "12\n"
     ]
    }
   ],
   "source": [
    "n = int(input())\n",
    "sum = 0\n",
    "while n >= 0:\n",
    "    if n % 2 == 0:\n",
    "        sum = sum + n\n",
    "    n = n - 1\n",
    "print(sum)"
   ]
  },
  {
   "cell_type": "code",
   "execution_count": 13,
   "id": "aad4664c-2dfb-4f4e-b042-2789bf68f156",
   "metadata": {},
   "outputs": [
    {
     "name": "stdin",
     "output_type": "stream",
     "text": [
      " 6\n"
     ]
    },
    {
     "name": "stdout",
     "output_type": "stream",
     "text": [
      "12\n"
     ]
    }
   ],
   "source": [
    "# bad practice changing input itself\n",
    "n = int(input())\n",
    "sum = 0\n",
    "i = 2\n",
    "while i <= n:\n",
    "    sum = sum + i;\n",
    "    i = i + 2\n",
    "\n",
    "print(sum)"
   ]
  },
  {
   "cell_type": "markdown",
   "id": "826bb055-6fcb-46b5-a737-a8416219fcdc",
   "metadata": {},
   "source": [
    "### Reverese of a number"
   ]
  },
  {
   "cell_type": "code",
   "execution_count": 16,
   "id": "32d7442f-cf03-479a-912d-012c026a6ac6",
   "metadata": {},
   "outputs": [
    {
     "name": "stdin",
     "output_type": "stream",
     "text": [
      " 341\n"
     ]
    },
    {
     "name": "stdout",
     "output_type": "stream",
     "text": [
      "143\n"
     ]
    }
   ],
   "source": [
    "n = int(input())\n",
    "temp = 0\n",
    "while n > 0:\n",
    "    temp = temp * 10 + n % 10\n",
    "    n = n // 10\n",
    "print(temp)"
   ]
  },
  {
   "cell_type": "markdown",
   "id": "b262bade-ea21-4829-a7e0-d44ea91e994b",
   "metadata": {},
   "source": [
    "### palindrome"
   ]
  },
  {
   "cell_type": "code",
   "execution_count": 22,
   "id": "87d93b48-c684-4eee-995d-716fe45bbee6",
   "metadata": {},
   "outputs": [
    {
     "name": "stdin",
     "output_type": "stream",
     "text": [
      " 121\n"
     ]
    },
    {
     "name": "stdout",
     "output_type": "stream",
     "text": [
      "True\n"
     ]
    }
   ],
   "source": [
    "n = int(input())\n",
    "copy_n = n\n",
    "temp = 0\n",
    "while n > 0:\n",
    "    temp = temp * 10 + n % 10\n",
    "    n = n // 10\n",
    "print(copy_n == temp)"
   ]
  },
  {
   "cell_type": "markdown",
   "id": "0cb45c0d-0158-4ce9-831c-0815abe35563",
   "metadata": {},
   "source": [
    "### sum of even and odd"
   ]
  },
  {
   "cell_type": "code",
   "execution_count": 24,
   "id": "651a34e3-be63-4282-9098-826ab31ca67b",
   "metadata": {},
   "outputs": [
    {
     "name": "stdin",
     "output_type": "stream",
     "text": [
      " 1234\n"
     ]
    },
    {
     "name": "stdout",
     "output_type": "stream",
     "text": [
      "381306 380689\n"
     ]
    }
   ],
   "source": [
    "n = int(input())\n",
    "odd_sum = 0\n",
    "even_sum = 0\n",
    "i = 1\n",
    "while i <= n:\n",
    "    if i % 2 == 0:\n",
    "        even_sum = even_sum + i\n",
    "    else:\n",
    "        odd_sum = odd_sum + i\n",
    "    i = i + 1\n",
    "print(even_sum, odd_sum)"
   ]
  },
  {
   "cell_type": "markdown",
   "id": "8122bd10-dba5-42bc-a230-a1cc8ddd6ff8",
   "metadata": {},
   "source": [
    "### sum of all its even digit and odd digit"
   ]
  },
  {
   "cell_type": "code",
   "execution_count": 28,
   "id": "922b2e3e-3cd8-4e9f-8174-0a9dcfd0b768",
   "metadata": {},
   "outputs": [
    {
     "name": "stdin",
     "output_type": "stream",
     "text": [
      " 552245\n"
     ]
    },
    {
     "name": "stdout",
     "output_type": "stream",
     "text": [
      "8 15\n"
     ]
    }
   ],
   "source": [
    "n = int(input())\n",
    "sum_even = 0\n",
    "sum_odd = 0\n",
    "while n > 0:\n",
    "    temp = n % 10\n",
    "    n = n // 10\n",
    "    if temp % 2 == 0:\n",
    "        sum_even = sum_even + temp\n",
    "    else:\n",
    "        sum_odd = sum_odd + temp\n",
    "print(sum_even, sum_odd)"
   ]
  },
  {
   "cell_type": "code",
   "execution_count": null,
   "id": "5083af73-d98a-4e37-aab8-394feb712932",
   "metadata": {},
   "outputs": [],
   "source": []
  }
 ],
 "metadata": {
  "kernelspec": {
   "display_name": "Python 3 (ipykernel)",
   "language": "python",
   "name": "python3"
  },
  "language_info": {
   "codemirror_mode": {
    "name": "ipython",
    "version": 3
   },
   "file_extension": ".py",
   "mimetype": "text/x-python",
   "name": "python",
   "nbconvert_exporter": "python",
   "pygments_lexer": "ipython3",
   "version": "3.12.5"
  }
 },
 "nbformat": 4,
 "nbformat_minor": 5
}
