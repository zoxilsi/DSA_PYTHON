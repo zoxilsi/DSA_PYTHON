{
 "cells": [
  {
   "cell_type": "code",
   "execution_count": 2,
   "id": "1d0b5f31-38cd-4df1-9bce-ac039632f7a3",
   "metadata": {},
   "outputs": [
    {
     "name": "stdout",
     "output_type": "stream",
     "text": [
      "zoxilsi\n"
     ]
    }
   ],
   "source": [
    "print(\"zoxilsi\")"
   ]
  },
  {
   "cell_type": "markdown",
   "id": "7d8cfa03-474f-43cf-a9b0-95d3596c9dd0",
   "metadata": {},
   "source": [
    "### variables"
   ]
  },
  {
   "cell_type": "code",
   "execution_count": 1,
   "id": "64135cbf-a802-403c-b0ad-f59a342e5bec",
   "metadata": {},
   "outputs": [
    {
     "data": {
      "text/plain": [
       "30"
      ]
     },
     "execution_count": 1,
     "metadata": {},
     "output_type": "execute_result"
    }
   ],
   "source": [
    "a = 10\n",
    "b = 20\n",
    "a + b"
   ]
  },
  {
   "cell_type": "code",
   "execution_count": 8,
   "id": "44b9fbcb-a580-4157-ae6e-1d174e65ab1a",
   "metadata": {},
   "outputs": [
    {
     "name": "stdout",
     "output_type": "stream",
     "text": [
      "30\n"
     ]
    }
   ],
   "source": [
    "a = 10\n",
    "b = 20\n",
    "sum = a + b\n",
    "print(sum)"
   ]
  },
  {
   "cell_type": "code",
   "execution_count": 9,
   "id": "7ca108be-ad10-4f42-b86a-ba30fa87a1d3",
   "metadata": {},
   "outputs": [
    {
     "name": "stdout",
     "output_type": "stream",
     "text": [
      "110\n",
      "Sum\n",
      "sum\n"
     ]
    }
   ],
   "source": [
    "a = 10\n",
    "b = 100\n",
    "sum = a + b\n",
    "print(sum)\n",
    "print(\"Sum\")\n",
    "print('sum')"
   ]
  },
  {
   "cell_type": "markdown",
   "id": "e5172c25-30d6-4b07-9828-4fafb4d3ccd3",
   "metadata": {},
   "source": [
    "### data types"
   ]
  },
  {
   "cell_type": "code",
   "execution_count": 10,
   "id": "59ba59dd-5f8d-4a4c-824b-0aa4d08ce7fd",
   "metadata": {},
   "outputs": [],
   "source": [
    "# you cant start with number in variable name\n",
    "#12cd\n"
   ]
  },
  {
   "cell_type": "code",
   "execution_count": null,
   "id": "4ab6fbc8-7cb1-427f-b6a2-769ac2f520e9",
   "metadata": {},
   "outputs": [],
   "source": []
  }
 ],
 "metadata": {
  "kernelspec": {
   "display_name": "Python 3 (ipykernel)",
   "language": "python",
   "name": "python3"
  },
  "language_info": {
   "codemirror_mode": {
    "name": "ipython",
    "version": 3
   },
   "file_extension": ".py",
   "mimetype": "text/x-python",
   "name": "python",
   "nbconvert_exporter": "python",
   "pygments_lexer": "ipython3",
   "version": "3.12.5"
  }
 },
 "nbformat": 4,
 "nbformat_minor": 5
}
