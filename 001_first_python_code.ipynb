{
 "cells": [
  {
   "cell_type": "code",
   "execution_count": 2,
   "id": "1d0b5f31-38cd-4df1-9bce-ac039632f7a3",
   "metadata": {},
   "outputs": [
    {
     "name": "stdout",
     "output_type": "stream",
     "text": [
      "zoxilsi\n"
     ]
    }
   ],
   "source": [
    "print(\"zoxilsi\")"
   ]
  },
  {
   "cell_type": "raw",
   "id": "ad5fbe6b-6d90-4f46-aeff-15ff48bebc6d",
   "metadata": {},
   "source": []
  },
  {
   "cell_type": "code",
   "execution_count": null,
   "id": "405882c3-4d39-468c-920b-7acce21209b7",
   "metadata": {},
   "outputs": [],
   "source": []
  }
 ],
 "metadata": {
  "kernelspec": {
   "display_name": "Python 3 (ipykernel)",
   "language": "python",
   "name": "python3"
  },
  "language_info": {
   "codemirror_mode": {
    "name": "ipython",
    "version": 3
   },
   "file_extension": ".py",
   "mimetype": "text/x-python",
   "name": "python",
   "nbconvert_exporter": "python",
   "pygments_lexer": "ipython3",
   "version": "3.12.5"
  }
 },
 "nbformat": 4,
 "nbformat_minor": 5
}
